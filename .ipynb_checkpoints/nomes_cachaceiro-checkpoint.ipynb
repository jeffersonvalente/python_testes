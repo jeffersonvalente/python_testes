{
 "cells": [
  {
   "cell_type": "code",
   "execution_count": 1,
   "id": "eb9c64f0-b343-43e7-9db2-2a6ea1ee980b",
   "metadata": {},
   "outputs": [
    {
     "name": "stdout",
     "output_type": "stream",
     "text": [
      "Seu nome de cachaceiro eh betinho Furico\n"
     ]
    }
   ],
   "source": [
    "#variaveis de saida\n",
    "nome = \"\"\n",
    "sobrenome = \"\"\n",
    "\n",
    "mes = 1\n",
    "dia =1\n",
    "\n",
    "#usando if\n",
    "if mes ==1:\n",
    "\tnome = \"betinho\"\n",
    "elif mes == 2:\n",
    "\tnome = \"Xexeu\"\n",
    "elif mes == 3:\n",
    "\tnome = \"Ze\"\n",
    "\n",
    "if dia == 1:\n",
    "\tsobrenome = \"Furico\"\n",
    "elif dia == 2:\n",
    "\tsobrenome = \"da Viola\"\n",
    "elif dia == 3:\n",
    "\tsobrenome =  \"rosca solta\"\n",
    "\n",
    "#Usando listas\n",
    "lista_nomes = [\"betinho\", \"xexeu\", \"ze\"]\n",
    "lista_sobrenomes = [\"Furico\", \"da viola\", \"rosca solta\"]\n",
    "\n",
    "nome = lista_nomes[mes - 1]\n",
    "sobrenome = lista_sobrenomes[dia - 1]\n",
    "\n",
    "#usando dicionario\n",
    "#dicionario_nomes = {1: \"betinho\", 2: \"xexeu\", 3: \"ze\"}\n",
    "#dicionario_sobrenomes = {1: \"Furicop\", 2: \"da Viola\", 3: \"rosca solca\"}\n",
    "#nome = dicionario_nomes[mes]\n",
    "#sobrenome = dicionario_sobrenomes[dia]\n",
    "\n",
    "#usando zip\n",
    "dicionario_nome = dict(zip([1,2,3,],[\"betinho\", \"xexeu\", \"ze\"]))\n",
    "dicionario_sobrenome = dict(zip([1,2,3], [\"furico\", \"da viola\", \"rosca solta\"]))\n",
    "#nome = dicionario_nomes[mes]\n",
    "#sobrenome = dicionario_sobrenomes[dia]\n",
    "\n",
    "#usando funçoes\n",
    "def gerador_if(mes,dia):\n",
    "#\tglobal nome\n",
    "#\tglobal sobrenome\n",
    "\tnome =\"\"\n",
    "\tsobrenome=\"\"\n",
    "\tif mes ==1:\n",
    "\t        nome = \"betinho\"\n",
    "\telif mes == 2:\n",
    "\t        nome = \"Xexeu\"\n",
    "\telif mes == 3:\n",
    "\t        nome = \"Ze\"\n",
    "\n",
    "\tif dia == 1:\n",
    "\t        sobrenome = \"Furico\"\n",
    "\telif dia == 2:\n",
    "\t        sobrenome = \"da Viola\"\n",
    "\telif dia == 3:\n",
    "\t        sobrenome =  \"rosca solta\"\n",
    "\treturn nome, sobrenome\n",
    "\n",
    "#type(gerador_if(1,1))\n",
    "#tuple\n",
    "\n",
    "\n",
    "# Resultado\n",
    "\n",
    "#nome, sobrenome= gerador_if(mes,dia)\n",
    "print(\"Seu nome de cachaceiro eh {} {}\".format(nome, sobrenome))\n"
   ]
  },
  {
   "cell_type": "code",
   "execution_count": null,
   "id": "4bfca005-3c17-4c9a-b897-931076aa3579",
   "metadata": {},
   "outputs": [],
   "source": []
  }
 ],
 "metadata": {
  "kernelspec": {
   "display_name": "Python 3 (ipykernel)",
   "language": "python",
   "name": "python3"
  },
  "language_info": {
   "codemirror_mode": {
    "name": "ipython",
    "version": 3
   },
   "file_extension": ".py",
   "mimetype": "text/x-python",
   "name": "python",
   "nbconvert_exporter": "python",
   "pygments_lexer": "ipython3",
   "version": "3.8.10"
  }
 },
 "nbformat": 4,
 "nbformat_minor": 5
}
