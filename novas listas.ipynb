{
 "cells": [
  {
   "cell_type": "code",
   "execution_count": 8,
   "id": "ac75d796-abf0-4ec5-8583-94f681b9ef4b",
   "metadata": {},
   "outputs": [
    {
     "name": "stdout",
     "output_type": "stream",
     "text": [
      "Mes = 2\n",
      "dia = 1\n"
     ]
    }
   ],
   "source": [
    "#mes = 3\n",
    "#dia = 2\n",
    "\n",
    "#lista\n",
    "listas_nomes = [\"Betinho\", \"Xexeu\", \"Ze\"]\n",
    "lista_sobrenomes = [\"Furico\", \"Da viola\", \"Rosca Solta\"]\n",
    "                    \n",
    "print (\"Mes = {}\".format(mes -1))\n",
    "print (\"dia = {}\".format(dia -1))\n",
    "\n",
    "if ((mes >=1) &(mes <=1)) & ((dia >=1) & (dia <=1)):\n",
    "    nome = lista_nomes[mes -1]\n",
    "    sobrenome = lista_sobrenomes[dia -1]\n",
    "    print (\"Seu nome de cachaceiro é {} {}\".format(nome, sobrenome))\n"
   ]
  },
  {
   "cell_type": "code",
   "execution_count": null,
   "id": "19383211-f826-4167-b146-d234f081367e",
   "metadata": {},
   "outputs": [],
   "source": []
  }
 ],
 "metadata": {
  "kernelspec": {
   "display_name": "Python 3 (ipykernel)",
   "language": "python",
   "name": "python3"
  },
  "language_info": {
   "codemirror_mode": {
    "name": "ipython",
    "version": 3
   },
   "file_extension": ".py",
   "mimetype": "text/x-python",
   "name": "python",
   "nbconvert_exporter": "python",
   "pygments_lexer": "ipython3",
   "version": "3.8.10"
  }
 },
 "nbformat": 4,
 "nbformat_minor": 5
}
